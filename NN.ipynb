{
 "cells": [
  {
   "cell_type": "markdown",
   "id": "bd14ecae-d4e1-43f0-bb07-51bbabcaaae7",
   "metadata": {},
   "source": [
    "# Réseaux Neuronaux\n",
    "\n",
    "## 1. Perceptron multicouche\n",
    "\n",
    "*Cette partie est pour le moment une traduction personelle de [Neural network models (supervised)](https://scikit-learn.org/stable/modules/neural_networks_supervised.html#neural-network-models-supervised) de Scikit*\n",
    "\n",
    "\n",
    "Le perceptron multicouche est un algorithme d'apprentissage supervisé qui *apprend* une fonction $f(\\cdot) : \\mathbb{R}^m \\rightarrow \\mathbb{R}^o$ en s'entraînant sur un jeu de données. Ici $m$ est le nombre de dimensions en entrée et $o$ celui en sortie. Soit un ensemble de caractéristiques $\\vec{X}$ et une cible $y$, l'algorithme peut apprendre un approximateur de fonction non-linéaire pour la classification ou la régression. Par la présence de couches cachées entre la couche d'entrée et celle de sortie, le concept est différent de celui de la régression logistique. La figure 1 illustre un perceptron multicouche avec une sortie scalaire. \n",
    "![](https://scikit-learn.org/stable/_images/multilayerperceptron_network.png)"
   ]
  },
  {
   "cell_type": "code",
   "execution_count": null,
   "id": "9e3bb82c-b19c-48ac-93fa-9897962e7dc4",
   "metadata": {},
   "outputs": [],
   "source": []
  }
 ],
 "metadata": {
  "kernelspec": {
   "display_name": "Python 3 (ipykernel)",
   "language": "python",
   "name": "python3"
  },
  "language_info": {
   "codemirror_mode": {
    "name": "ipython",
    "version": 3
   },
   "file_extension": ".py",
   "mimetype": "text/x-python",
   "name": "python",
   "nbconvert_exporter": "python",
   "pygments_lexer": "ipython3",
   "version": "3.10.6"
  }
 },
 "nbformat": 4,
 "nbformat_minor": 5
}
